{
 "cells": [
  {
   "cell_type": "code",
   "execution_count": 1,
   "metadata": {
    "collapsed": false
   },
   "outputs": [],
   "source": [
    "from __future__ import division, print_function\n",
    "# отключим всякие предупреждения Anaconda\n",
    "import warnings\n",
    "warnings.filterwarnings('ignore')\n",
    "from glob import glob\n",
    "import numpy as np\n",
    "import pandas as pd\n",
    "from scipy.sparse import csr_matrix\n",
    "import pickle\n",
    "from scipy import stats\n",
    "from statsmodels.stats.proportion import proportion_confint\n",
    "%matplotlib inline"
   ]
  },
  {
   "cell_type": "code",
   "execution_count": 2,
   "metadata": {
    "collapsed": true
   },
   "outputs": [],
   "source": [
    "import os, os.path\n",
    "import operator\n",
    "from collections import Counter"
   ]
  },
  {
   "cell_type": "code",
   "execution_count": 7,
   "metadata": {
    "collapsed": true
   },
   "outputs": [],
   "source": [
    "def prepare_train_set_window(dirname, session_length, wind_size) :\n",
    "    \n",
    "    lol = lambda lst, sz, wz: [lst[i:i+sz] for i in range(0, len(lst), wz)]\n",
    "  \n",
    "    # download data from all files into one dataframe\n",
    "    n_users = 0\n",
    "    n_sess = 0\n",
    "    all_user_list = list()\n",
    "    all_user_sess = list()\n",
    "    all_sess_list = list()\n",
    "    for root, dirs, files in os.walk(dirname):\n",
    "        for f in files:\n",
    "            fullpath = os.path.join(root, f)\n",
    "            if os.path.splitext(fullpath)[1] == '.csv':\n",
    "                udata = pd.read_csv(fullpath, header=None, names=['usr', 'timestamp', 'site'])\n",
    "                udata.drop_duplicates(inplace=True)\n",
    "                all_sess_list.extend( list(udata['site']) )\n",
    "                sess_list = lol(list(udata.site), session_length, wind_size) # split list with magic\n",
    "                n_sess += len(sess_list) # count total number of sessions\n",
    "                all_user_sess.append(sess_list )\n",
    "                all_user_list.append(udata.iloc[0,0])\n",
    "                n_users += 1\n",
    "                \n",
    "    # print (str(n_users) + \" users data processed for \" + str(n_sess) + \" sessions\")\n",
    "      \n",
    "    # build and sort friquency list by frq\n",
    "    all_sites_frq = sorted(Counter(all_sess_list).items(), key=operator.itemgetter(1), reverse=True)\n",
    "   \n",
    "    # build sites dictionary - name: (id, frq),  site id starts from 1\n",
    "    all_sites_dict = { key: (i, frq) for (i, (key, frq)) in enumerate(all_sites_frq, start=1) }\n",
    "    \n",
    "    # print (\"dictionary built for \" + str(len(all_sites_dict)) + \" sites\" )\n",
    "    \n",
    "    # change site names for their id from dictionary in session lists\n",
    "    \n",
    "    dt = np.zeros(n_sess * (session_length+1), dtype='int').reshape(n_sess, (session_length+1) )\n",
    "    k = 0\n",
    "    for usr, us_sess in zip(all_user_list, all_user_sess) :\n",
    "        for sess in us_sess :\n",
    "            dt[k, session_length] = usr   # last in row is user ID\n",
    "            for i, site in enumerate(sess) :\n",
    "                dt[k, i] = all_sites_dict.get(site)[0]\n",
    "            k += 1\n",
    "   \n",
    "    cols = list([('s'+ str(x)) for x in range(session_length)] )\n",
    "    cols.append('uid')\n",
    "    \n",
    "    # return dataframe w/o duplicates and sorted by frq dictionary\n",
    "    return pd.DataFrame(dt, columns=cols).drop_duplicates(), sorted(all_sites_dict.items(), key=operator.itemgetter(1), reverse=False) \n",
    "    "
   ]
  },
  {
   "cell_type": "code",
   "execution_count": 8,
   "metadata": {
    "collapsed": true
   },
   "outputs": [],
   "source": [
    "def sparse_array( sess, maxlen ) :\n",
    "    \n",
    "    indices = sess.ravel() \n",
    "    ln = len( indices )\n",
    "    data = np.ones(ln, dtype=int)\n",
    "    indptr = np.array( range(0, ln+1, maxlen), dtype=int )\n",
    "    \n",
    "    return csr_matrix( (data, indices, indptr),  dtype=int )[:, 1:]"
   ]
  },
  {
   "cell_type": "code",
   "execution_count": 9,
   "metadata": {
    "collapsed": true
   },
   "outputs": [],
   "source": [
    "def prepare_sparse_train_set_window(csv_file_dir, session_length, window_size) :\n",
    "    df, site_frq = prepare_train_set_window(csv_file_dir, session_length, window_size)\n",
    "    X,  y  = df.iloc[:, :-1].values,  df.iloc[:, -1].values\n",
    "    X_sparse  = sparse_array(X, session_length)\n",
    "    return X_sparse, y\n",
    "    "
   ]
  },
  {
   "cell_type": "code",
   "execution_count": 10,
   "metadata": {
    "collapsed": false
   },
   "outputs": [],
   "source": [
    "X_toy_s5_w3, y_s5_w3 = prepare_sparse_train_set_window('capstone_websites_data/3users_toy/', session_length=5, window_size=3)"
   ]
  },
  {
   "cell_type": "code",
   "execution_count": 11,
   "metadata": {
    "collapsed": false
   },
   "outputs": [
    {
     "name": "stdout",
     "output_type": "stream",
     "text": [
      "processing directory: capstone_websites_data/10users for session length= 15 and window= 10   done!\n",
      "processing directory: capstone_websites_data/10users for session length= 10 and window= 10   done!\n",
      "processing directory: capstone_websites_data/10users for session length= 15 and window= 7   done!\n",
      "processing directory: capstone_websites_data/10users for session length= 10 and window= 7   done!\n",
      "processing directory: capstone_websites_data/10users for session length= 7 and window= 7   done!\n",
      "processing directory: capstone_websites_data/10users for session length= 15 and window= 5   done!\n",
      "processing directory: capstone_websites_data/10users for session length= 10 and window= 5   done!\n",
      "processing directory: capstone_websites_data/10users for session length= 7 and window= 5   done!\n",
      "processing directory: capstone_websites_data/10users for session length= 5 and window= 5   done!\n",
      "processing directory: capstone_websites_data/150users for session length= 15 and window= 10   done!\n",
      "processing directory: capstone_websites_data/150users for session length= 10 and window= 10   done!\n",
      "processing directory: capstone_websites_data/150users for session length= 15 and window= 7   done!\n",
      "processing directory: capstone_websites_data/150users for session length= 10 and window= 7   done!\n",
      "processing directory: capstone_websites_data/150users for session length= 7 and window= 7   done!\n",
      "processing directory: capstone_websites_data/150users for session length= 15 and window= 5   done!\n",
      "processing directory: capstone_websites_data/150users for session length= 10 and window= 5   done!\n",
      "processing directory: capstone_websites_data/150users for session length= 7 and window= 5   done!\n",
      "processing directory: capstone_websites_data/150users for session length= 5 and window= 5   done!\n",
      "Wall time: 32 s\n"
     ]
    }
   ],
   "source": [
    "%%time\n",
    "import itertools\n",
    "\n",
    "data_lengths = []\n",
    "\n",
    "for num_users in [10, 150]:\n",
    "    for window_size, session_length in itertools.product([10, 7, 5], [15, 10, 7, 5]):\n",
    "        if window_size <= session_length and (window_size, session_length) : # != (10, 10):\n",
    "            dirname = 'capstone_websites_data/' + str(num_users) + 'users'\n",
    "            print (\"processing directory:\", dirname, \"for session length=\", session_length, \"and window=\", window_size, end=' ')\n",
    "            X_sparse, y = prepare_sparse_train_set_window(dirname, session_length, window_size)\n",
    "            data_lengths.append(len(y))\n",
    "            X_name = 'capstone_websites_data/X_sparse_'+ str(num_users)+'users_s'+str(session_length)+'_w'+str(window_size)+'.pkl' \n",
    "            y_name = 'capstone_websites_data/y_'+str(num_users)+'users_s'+str(session_length)+'_w'+str(window_size)+'.pkl'\n",
    "            with open(X_name, 'wb') as X_pkl:\n",
    "                pickle.dump(X_sparse, X_pkl)\n",
    "            with open(y_name, 'wb') as y_pkl:\n",
    "                pickle.dump(y, y_pkl)\n",
    "            #print(X_name)\n",
    "            #print(y_name)\n",
    "            print (\"  done!\")"
   ]
  },
  {
   "cell_type": "markdown",
   "metadata": {},
   "source": [
    "**Запишите в файл *answer2_1.txt* все числа из списка *data_lengths* через пробел. Полученный файл будет ответом на 1 вопрос теста.**"
   ]
  },
  {
   "cell_type": "code",
   "execution_count": 7,
   "metadata": {
    "collapsed": false
   },
   "outputs": [
    {
     "name": "stdout",
     "output_type": "stream",
     "text": [
      "13554 19297 18490 17611 26889 25683 24376 22539 132629 189138 186063 181281 264261 259440 251786 237928 "
     ]
    }
   ],
   "source": [
    "for p in data_lengths :\n",
    "    print (p, end=' ')"
   ]
  },
  {
   "cell_type": "code",
   "execution_count": 7,
   "metadata": {
    "collapsed": false
   },
   "outputs": [],
   "source": [
    "train_df = pd.read_csv('capstone_websites_data/train_data_10users.csv', \n",
    "                       index_col='session_id')"
   ]
  },
  {
   "cell_type": "code",
   "execution_count": 8,
   "metadata": {
    "collapsed": false
   },
   "outputs": [
    {
     "data": {
      "text/html": [
       "<div>\n",
       "<table border=\"1\" class=\"dataframe\">\n",
       "  <thead>\n",
       "    <tr style=\"text-align: right;\">\n",
       "      <th></th>\n",
       "      <th>s0</th>\n",
       "      <th>s1</th>\n",
       "      <th>s2</th>\n",
       "      <th>s3</th>\n",
       "      <th>s4</th>\n",
       "      <th>s5</th>\n",
       "      <th>s6</th>\n",
       "      <th>s7</th>\n",
       "      <th>s8</th>\n",
       "      <th>s9</th>\n",
       "      <th>id</th>\n",
       "    </tr>\n",
       "    <tr>\n",
       "      <th>session_id</th>\n",
       "      <th></th>\n",
       "      <th></th>\n",
       "      <th></th>\n",
       "      <th></th>\n",
       "      <th></th>\n",
       "      <th></th>\n",
       "      <th></th>\n",
       "      <th></th>\n",
       "      <th></th>\n",
       "      <th></th>\n",
       "      <th></th>\n",
       "    </tr>\n",
       "  </thead>\n",
       "  <tbody>\n",
       "    <tr>\n",
       "      <th>0</th>\n",
       "      <td>395</td>\n",
       "      <td>485</td>\n",
       "      <td>485</td>\n",
       "      <td>5</td>\n",
       "      <td>174</td>\n",
       "      <td>192</td>\n",
       "      <td>587</td>\n",
       "      <td>134</td>\n",
       "      <td>3</td>\n",
       "      <td>134</td>\n",
       "      <td>31</td>\n",
       "    </tr>\n",
       "    <tr>\n",
       "      <th>1</th>\n",
       "      <td>134</td>\n",
       "      <td>3</td>\n",
       "      <td>134</td>\n",
       "      <td>134</td>\n",
       "      <td>203</td>\n",
       "      <td>422</td>\n",
       "      <td>679</td>\n",
       "      <td>193</td>\n",
       "      <td>254</td>\n",
       "      <td>31</td>\n",
       "      <td>31</td>\n",
       "    </tr>\n",
       "    <tr>\n",
       "      <th>2</th>\n",
       "      <td>134</td>\n",
       "      <td>4246</td>\n",
       "      <td>217</td>\n",
       "      <td>55</td>\n",
       "      <td>55</td>\n",
       "      <td>3</td>\n",
       "      <td>55</td>\n",
       "      <td>55</td>\n",
       "      <td>422</td>\n",
       "      <td>5</td>\n",
       "      <td>31</td>\n",
       "    </tr>\n",
       "    <tr>\n",
       "      <th>3</th>\n",
       "      <td>293</td>\n",
       "      <td>336</td>\n",
       "      <td>904</td>\n",
       "      <td>55</td>\n",
       "      <td>3927</td>\n",
       "      <td>55</td>\n",
       "      <td>55</td>\n",
       "      <td>55</td>\n",
       "      <td>55</td>\n",
       "      <td>200</td>\n",
       "      <td>31</td>\n",
       "    </tr>\n",
       "    <tr>\n",
       "      <th>4</th>\n",
       "      <td>124</td>\n",
       "      <td>344</td>\n",
       "      <td>983</td>\n",
       "      <td>55</td>\n",
       "      <td>3519</td>\n",
       "      <td>259</td>\n",
       "      <td>3743</td>\n",
       "      <td>212</td>\n",
       "      <td>2214</td>\n",
       "      <td>674</td>\n",
       "      <td>31</td>\n",
       "    </tr>\n",
       "  </tbody>\n",
       "</table>\n",
       "</div>"
      ],
      "text/plain": [
       "             s0    s1   s2   s3    s4   s5    s6   s7    s8   s9  id\n",
       "session_id                                                          \n",
       "0           395   485  485    5   174  192   587  134     3  134  31\n",
       "1           134     3  134  134   203  422   679  193   254   31  31\n",
       "2           134  4246  217   55    55    3    55   55   422    5  31\n",
       "3           293   336  904   55  3927   55    55   55    55  200  31\n",
       "4           124   344  983   55  3519  259  3743  212  2214  674  31"
      ]
     },
     "execution_count": 8,
     "metadata": {},
     "output_type": "execute_result"
    }
   ],
   "source": [
    "train_df.head()"
   ]
  },
  {
   "cell_type": "code",
   "execution_count": 7,
   "metadata": {
    "collapsed": false
   },
   "outputs": [
    {
     "data": {
      "text/plain": [
       "(13084, 11)"
      ]
     },
     "execution_count": 7,
     "metadata": {},
     "output_type": "execute_result"
    }
   ],
   "source": [
    "train_df.shape"
   ]
  },
  {
   "cell_type": "code",
   "execution_count": 73,
   "metadata": {
    "collapsed": false
   },
   "outputs": [],
   "source": [
    "# train_df['target'].value_counts()"
   ]
  },
  {
   "cell_type": "code",
   "execution_count": 505,
   "metadata": {
    "collapsed": true
   },
   "outputs": [],
   "source": [
    "num_unique_sites = [np.unique(train_df.values[i, :-1]).shape[0]  for i in range(train_df.shape[0])]"
   ]
  },
  {
   "cell_type": "code",
   "execution_count": 506,
   "metadata": {
    "collapsed": false
   },
   "outputs": [
    {
     "data": {
      "text/plain": [
       "7     2244\n",
       "6     2242\n",
       "5     1870\n",
       "8     1768\n",
       "4     1289\n",
       "9     1101\n",
       "3     1067\n",
       "2      993\n",
       "10     427\n",
       "1       83\n",
       "dtype: int64"
      ]
     },
     "execution_count": 506,
     "metadata": {},
     "output_type": "execute_result"
    }
   ],
   "source": [
    "pd.Series(num_unique_sites).value_counts()"
   ]
  },
  {
   "cell_type": "code",
   "execution_count": 507,
   "metadata": {
    "collapsed": false
   },
   "outputs": [
    {
     "data": {
      "image/png": "[encoded data removed]",
      "text/plain": [
       "<matplotlib.figure.Figure at 0x18caa9ae6d8>"
      ]
     },
     "metadata": {},
     "output_type": "display_data"
    }
   ],
   "source": [
    "pd.Series(num_unique_sites).hist();"
   ]
  },
  {
   "cell_type": "code",
   "execution_count": 508,
   "metadata": {
    "collapsed": false
   },
   "outputs": [
    {
     "data": {
      "image/png": "[encoded data removed]",
      "text/plain": [
       "<matplotlib.figure.Figure at 0x18caa9ae8d0>"
      ]
     },
     "metadata": {},
     "output_type": "display_data"
    }
   ],
   "source": [
    "import pylab \n",
    "import scipy.stats as stats\n",
    "\n",
    "measurements = pd.Series(num_unique_sites) \n",
    "stats.probplot(measurements, dist=\"norm\", plot=pylab)\n",
    "pylab.show()"
   ]
  },
  {
   "cell_type": "code",
   "execution_count": 509,
   "metadata": {
    "collapsed": false
   },
   "outputs": [
    {
     "data": {
      "text/plain": [
       "(0.9622764587402344, 0.0)"
      ]
     },
     "execution_count": 509,
     "metadata": {},
     "output_type": "execute_result"
    }
   ],
   "source": [
    "stats.shapiro(measurements)"
   ]
  },
  {
   "cell_type": "code",
   "execution_count": 159,
   "metadata": {
    "collapsed": true
   },
   "outputs": [],
   "source": [
    "has_two_similar = (np.array(num_unique_sites) < 10).astype('int')"
   ]
  },
  {
   "cell_type": "code",
   "execution_count": 19,
   "metadata": {
    "collapsed": false
   },
   "outputs": [
    {
     "name": "stdout",
     "output_type": "stream",
     "text": [
      "13084 [8, 8, 7, 6, 10]\n"
     ]
    }
   ],
   "source": [
    "print (len(num_unique_sites) , num_unique_sites[:5])"
   ]
  },
  {
   "cell_type": "code",
   "execution_count": 20,
   "metadata": {
    "collapsed": false
   },
   "outputs": [
    {
     "name": "stdout",
     "output_type": "stream",
     "text": [
      "13084 [1 1 1 1 0]\n"
     ]
    }
   ],
   "source": [
    "print (len(has_two_similar), has_two_similar[:5] )"
   ]
  },
  {
   "cell_type": "code",
   "execution_count": 21,
   "metadata": {
    "collapsed": false
   },
   "outputs": [
    {
     "name": "stdout",
     "output_type": "stream",
     "text": [
      "12657 13084\n"
     ]
    }
   ],
   "source": [
    "print ( sum(has_two_similar), len(train_df) )"
   ]
  },
  {
   "cell_type": "code",
   "execution_count": 510,
   "metadata": {
    "collapsed": false
   },
   "outputs": [
    {
     "data": {
      "text/plain": [
       "4.0320826138955797e-22"
      ]
     },
     "execution_count": 510,
     "metadata": {},
     "output_type": "execute_result"
    }
   ],
   "source": [
    "stats.binom_test(sum(has_two_similar), len(train_df), p=0.95 )"
   ]
  },
  {
   "cell_type": "code",
   "execution_count": 511,
   "metadata": {
    "collapsed": false
   },
   "outputs": [],
   "source": [
    "from statsmodels.stats.proportion import proportion_confint\n",
    "wilson_interval = proportion_confint(sum(has_two_similar), len(train_df), alpha=0.05, method='wilson')"
   ]
  },
  {
   "cell_type": "code",
   "execution_count": 512,
   "metadata": {
    "collapsed": false
   },
   "outputs": [
    {
     "name": "stdout",
     "output_type": "stream",
     "text": [
      "0.964 0.97\n"
     ]
    }
   ],
   "source": [
    "print ('{} {}'.format( round(wilson_interval[0], 3), round(wilson_interval[1], 3)) )"
   ]
  },
  {
   "cell_type": "code",
   "execution_count": 513,
   "metadata": {
    "collapsed": false
   },
   "outputs": [
    {
     "name": "stdout",
     "output_type": "stream",
     "text": [
      "26.62405862 4913\n",
      "[2, 1, 3, 4, 5, 6, 9, 10, 8, 7, 13, 12, 11, 15, 14, 17, 18, 19, 20, 22, 24, 21, 23]\n",
      "[(2, 7803), (1, 6227), (3, 5048), (4, 4063), (5, 4037), (6, 3747), (9, 2610), (10, 2068), (8, 2020), (7, 1858), (13, 1799), (12, 1682), (11, 1579), (15, 1491), (14, 1487), (17, 1379), (18, 1259), (19, 1230), (20, 1196), (22, 1040), (24, 1039), (21, 1033), (23, 1032)]\n",
      "[7803, 6227, 5048, 4063, 4037, 3747, 2610, 2068, 2020, 1858, 1799, 1682, 1579, 1491, 1487, 1379, 1259, 1230, 1196, 1040, 1039, 1033, 1032]\n",
      "[2, 1, 3, 4, 5, 6, 9, 10, 8, 7, 13, 12, 11, 15, 14, 17, 18, 19, 20, 22, 24, 21, 23]\n"
     ]
    }
   ],
   "source": [
    "sites_visited = list (train_df.iloc[:, :-1].as_matrix().ravel()) \n",
    "temp = sorted(Counter(sites_visited).items(), key=operator.itemgetter(1), reverse=True)\n",
    "# print (temp)\n",
    "sid_visits = list() \n",
    "\n",
    "sites_1000 = list()\n",
    "total_visits = 0\n",
    "for site in temp :\n",
    "    if site[0] != 0 : # remove 0 element (no site) from the list\n",
    "        total_visits += site[1]\n",
    "        sid_visits.append(site)\n",
    "        if (site[1] > 1000) :\n",
    "            sites_1000.append(site[0])\n",
    "\n",
    "site_freqs = {sid : val for (sid, val) in sid_visits}\n",
    "site_ids = [sid  for (sid, val) in sid_visits]\n",
    "site_visits = [val  for (sid, val) in sid_visits]\n",
    "# print (total_visits, len(site_freqs), len(site_ids), len(sites_1000), sites_1000)\n",
    "print ( np.mean(site_visits), len(site_ids) )\n",
    "print (sites_1000)\n",
    "print (sid_visits[:23])\n",
    "print (site_visits[:23])\n",
    "print (site_ids[:23])\n"
   ]
  },
  {
   "cell_type": "code",
   "execution_count": 164,
   "metadata": {
    "collapsed": false
   },
   "outputs": [],
   "source": [
    "import numpy as np\n",
    "from matplotlib import pyplot\n",
    "\n",
    "# sites_1000 = [2, 1, 3, 4, 5, 6, 9, 10, 8, 7, 13, 12, 11, 15, 14, 17, 18, 19, 20, 22, 23, 21, 24]\n",
    "da = train_df.iloc[:, :-1].as_matrix().astype(int)\n",
    "N, M = da.shape\n",
    "df = np.zeros(11, dtype=int)\n",
    "df_total = np.zeros(11, dtype=int)\n",
    "list_mean = list()\n",
    "for sid in sites_1000 :\n",
    "    df = np.zeros(11, dtype=int)\n",
    "    for i in range(N):\n",
    "        k = 0\n",
    "        for j in range(M):\n",
    "            if da[i,j] == sid :\n",
    "                k +=1\n",
    "        df[k] +=1\n",
    "    df_total += df"
   ]
  },
  {
   "cell_type": "code",
   "execution_count": 165,
   "metadata": {
    "collapsed": false
   },
   "outputs": [
    {
     "data": {
      "image/png": "[encoded data removed]",
      "text/plain": [
       "<matplotlib.figure.Figure at 0x18c8005e160>"
      ]
     },
     "metadata": {},
     "output_type": "display_data"
    }
   ],
   "source": [
    "pyplot.plot( np.array(range(1,11)), df_total[1:] )\n",
    "pyplot.show() "
   ]
  },
  {
   "cell_type": "code",
   "execution_count": 9,
   "metadata": {
    "collapsed": true
   },
   "outputs": [],
   "source": [
    "def get_bootstrap_samples(data, n_samples):\n",
    "    # np.random.seed(0)\n",
    "    indices = np.random.randint(0, len(data), (n_samples, len(data)) )\n",
    "    samples = data[indices]\n",
    "    return samples"
   ]
  },
  {
   "cell_type": "code",
   "execution_count": 10,
   "metadata": {
    "collapsed": true
   },
   "outputs": [],
   "source": [
    "def stat_intervals(stat, alpha):\n",
    "    boundaries = np.percentile(stat, [100 * alpha / 2., 100 * (1 - alpha / 2.)])\n",
    "    return boundaries"
   ]
  },
  {
   "cell_type": "code",
   "execution_count": 14,
   "metadata": {
    "collapsed": false
   },
   "outputs": [
    {
     "name": "stdout",
     "output_type": "stream",
     "text": [
      "4913 [6227 7803 5048 4063 4037 3747 1858 2020 2610 2068 1579 1682 1799 1487 1491]\n",
      "21.164 33.06\n"
     ]
    }
   ],
   "source": [
    "# 1 version\n",
    "site_ids, site_freqs = np.unique(train_df.values[:, :-1],return_counts=True)\n",
    "\n",
    "for i in range(len(site_ids)) :\n",
    "    if site_ids[i] == 0 :\n",
    "        site_ids = np.delete(site_ids, i)\n",
    "        site_freqs = np.delete(site_freqs, i)\n",
    "        # print (\"deleted element \", i)\n",
    "        break\n",
    "sample_length = site_ids.shape[0]\n",
    "\n",
    "print (len(site_freqs), site_freqs[:15])\n",
    "mean_scores = list(map(np.mean, get_bootstrap_samples(site_freqs, sample_length)))\n",
    "\n",
    "\n",
    "p = stat_intervals(mean_scores, 0.05)\n",
    "print ('{} {}'.format( round(p[0], 3), round(p[1], 3)) )\n"
   ]
  },
  {
   "cell_type": "code",
   "execution_count": 14,
   "metadata": {
    "collapsed": false
   },
   "outputs": [
    {
     "name": "stdout",
     "output_type": "stream",
     "text": [
      "4913 [7803 6227 5048 4063 4037 3747 2610 2068 2020 1858 1799 1682 1579 1491 1487]\n",
      "21.113 33.058\n"
     ]
    }
   ],
   "source": [
    "# 4 version\n",
    "temp = sorted(Counter(train_df.iloc[:, :-1].as_matrix().ravel()).items(), key=operator.itemgetter(1), reverse=True)\n",
    "temp2 = [val  for (sid, val) in temp if sid != 0]\n",
    "site_freqs = np.array(temp2)\n",
    "\n",
    "print (len(site_freqs), site_freqs[:15])\n",
    "mean_scores = list(map(np.mean, get_bootstrap_samples(site_freqs, sample_length)))\n",
    "\n",
    "p = stat_intervals(mean_scores, 0.05)\n",
    "print ('{} {}'.format( round(p[0], 3), round(p[1], 3)) )"
   ]
  }
 ],
 "metadata": {
  "anaconda-cloud": {},
  "kernelspec": {
   "display_name": "Python [default]",
   "language": "python",
   "name": "python3"
  },
  "language_info": {
   "codemirror_mode": {
    "name": "ipython",
    "version": 3
   },
   "file_extension": ".py",
   "mimetype": "text/x-python",
   "name": "python",
   "nbconvert_exporter": "python",
   "pygments_lexer": "ipython3",
   "version": "3.5.2"
  }
 },
 "nbformat": 4,
 "nbformat_minor": 1
}

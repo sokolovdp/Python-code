{
 "cells": [
  {
   "cell_type": "code",
   "execution_count": 1,
   "metadata": {
    "collapsed": true
   },
   "outputs": [],
   "source": [
    "import numpy as np\n",
    "import pandas as pd\n",
    "from scipy.sparse import csr_matrix\n",
    "from sklearn.model_selection import train_test_split\n",
    "from sklearn.linear_model import SGDClassifier\n",
    "from sklearn.metrics import accuracy_score, f1_score"
   ]
  },
  {
   "cell_type": "markdown",
   "metadata": {},
   "source": [
    "**Считаем данные [соревнования](https://inclass.kaggle.com/c/identify-me-if-you-can-yandex-mipt/data) в DataFrame train_df и test_df (обучающая и тестовая выборки).**"
   ]
  },
  {
   "cell_type": "code",
   "execution_count": 2,
   "metadata": {
    "collapsed": false
   },
   "outputs": [],
   "source": [
    "train_df = pd.read_csv('kaggle_data/train_sessions.csv', index_col='session_id')\n",
    "test_df = pd.read_csv('kaggle_data/test_sessions.csv', index_col='session_id')"
   ]
  },
  {
   "cell_type": "code",
   "execution_count": 3,
   "metadata": {
    "collapsed": false
   },
   "outputs": [
    {
     "data": {
      "text/html": [
       "<div>\n",
       "<table border=\"1\" class=\"dataframe\">\n",
       "  <thead>\n",
       "    <tr style=\"text-align: right;\">\n",
       "      <th></th>\n",
       "      <th>site1</th>\n",
       "      <th>site2</th>\n",
       "      <th>site3</th>\n",
       "      <th>site4</th>\n",
       "      <th>site5</th>\n",
       "      <th>site6</th>\n",
       "      <th>site7</th>\n",
       "      <th>site8</th>\n",
       "      <th>site9</th>\n",
       "      <th>site10</th>\n",
       "    </tr>\n",
       "    <tr>\n",
       "      <th>session_id</th>\n",
       "      <th></th>\n",
       "      <th></th>\n",
       "      <th></th>\n",
       "      <th></th>\n",
       "      <th></th>\n",
       "      <th></th>\n",
       "      <th></th>\n",
       "      <th></th>\n",
       "      <th></th>\n",
       "      <th></th>\n",
       "    </tr>\n",
       "  </thead>\n",
       "  <tbody>\n",
       "    <tr>\n",
       "      <th>1</th>\n",
       "      <td>8</td>\n",
       "      <td>11.0</td>\n",
       "      <td>82.0</td>\n",
       "      <td>68.0</td>\n",
       "      <td>8.0</td>\n",
       "      <td>8393.0</td>\n",
       "      <td>8403.0</td>\n",
       "      <td>932.0</td>\n",
       "      <td>3260.0</td>\n",
       "      <td>8.0</td>\n",
       "    </tr>\n",
       "    <tr>\n",
       "      <th>2</th>\n",
       "      <td>111</td>\n",
       "      <td>78.0</td>\n",
       "      <td>151.0</td>\n",
       "      <td>111.0</td>\n",
       "      <td>1401.0</td>\n",
       "      <td>151.0</td>\n",
       "      <td>1375.0</td>\n",
       "      <td>38.0</td>\n",
       "      <td>1401.0</td>\n",
       "      <td>97.0</td>\n",
       "    </tr>\n",
       "    <tr>\n",
       "      <th>3</th>\n",
       "      <td>11</td>\n",
       "      <td>3187.0</td>\n",
       "      <td>132.0</td>\n",
       "      <td>496.0</td>\n",
       "      <td>1969.0</td>\n",
       "      <td>504.0</td>\n",
       "      <td>3187.0</td>\n",
       "      <td>82.0</td>\n",
       "      <td>3191.0</td>\n",
       "      <td>3184.0</td>\n",
       "    </tr>\n",
       "  </tbody>\n",
       "</table>\n",
       "</div>"
      ],
      "text/plain": [
       "            site1   site2  site3  site4   site5   site6   site7  site8  \\\n",
       "session_id                                                               \n",
       "1               8    11.0   82.0   68.0     8.0  8393.0  8403.0  932.0   \n",
       "2             111    78.0  151.0  111.0  1401.0   151.0  1375.0   38.0   \n",
       "3              11  3187.0  132.0  496.0  1969.0   504.0  3187.0   82.0   \n",
       "\n",
       "             site9  site10  \n",
       "session_id                  \n",
       "1           3260.0     8.0  \n",
       "2           1401.0    97.0  \n",
       "3           3191.0  3184.0  "
      ]
     },
     "execution_count": 3,
     "metadata": {},
     "output_type": "execute_result"
    }
   ],
   "source": [
    "train_df[['site1', 'site2', 'site3', 'site4','site5', 'site6','site7', 'site8', 'site9', 'site10'] ].head(3)"
   ]
  },
  {
   "cell_type": "markdown",
   "metadata": {},
   "source": [
    "**Объединим обучающую и тестовую выборки – это понадобится, чтоб вместе потом привести их к разреженному формату.**"
   ]
  },
  {
   "cell_type": "code",
   "execution_count": 4,
   "metadata": {
    "collapsed": true
   },
   "outputs": [],
   "source": [
    "train_test_df = pd.concat([train_df, test_df])"
   ]
  },
  {
   "cell_type": "code",
   "execution_count": 5,
   "metadata": {
    "collapsed": false
   },
   "outputs": [
    {
     "name": "stdout",
     "output_type": "stream",
     "text": [
      "(95319, 21) (41177, 20) (136496, 21)\n"
     ]
    }
   ],
   "source": [
    "print (train_df.shape, test_df.shape, train_test_df.shape)"
   ]
  },
  {
   "cell_type": "code",
   "execution_count": 6,
   "metadata": {
    "collapsed": false
   },
   "outputs": [
    {
     "data": {
      "text/html": [
       "<div>\n",
       "<table border=\"1\" class=\"dataframe\">\n",
       "  <thead>\n",
       "    <tr style=\"text-align: right;\">\n",
       "      <th></th>\n",
       "      <th>site1</th>\n",
       "      <th>site10</th>\n",
       "      <th>site2</th>\n",
       "      <th>site3</th>\n",
       "      <th>site4</th>\n",
       "      <th>site5</th>\n",
       "      <th>site6</th>\n",
       "      <th>site7</th>\n",
       "      <th>site8</th>\n",
       "      <th>site9</th>\n",
       "      <th>...</th>\n",
       "      <th>time10</th>\n",
       "      <th>time2</th>\n",
       "      <th>time3</th>\n",
       "      <th>time4</th>\n",
       "      <th>time5</th>\n",
       "      <th>time6</th>\n",
       "      <th>time7</th>\n",
       "      <th>time8</th>\n",
       "      <th>time9</th>\n",
       "      <th>user_id</th>\n",
       "    </tr>\n",
       "    <tr>\n",
       "      <th>session_id</th>\n",
       "      <th></th>\n",
       "      <th></th>\n",
       "      <th></th>\n",
       "      <th></th>\n",
       "      <th></th>\n",
       "      <th></th>\n",
       "      <th></th>\n",
       "      <th></th>\n",
       "      <th></th>\n",
       "      <th></th>\n",
       "      <th></th>\n",
       "      <th></th>\n",
       "      <th></th>\n",
       "      <th></th>\n",
       "      <th></th>\n",
       "      <th></th>\n",
       "      <th></th>\n",
       "      <th></th>\n",
       "      <th></th>\n",
       "      <th></th>\n",
       "      <th></th>\n",
       "    </tr>\n",
       "  </thead>\n",
       "  <tbody>\n",
       "    <tr>\n",
       "      <th>95318</th>\n",
       "      <td>223</td>\n",
       "      <td>173.0</td>\n",
       "      <td>466.0</td>\n",
       "      <td>3810.0</td>\n",
       "      <td>111.0</td>\n",
       "      <td>11.0</td>\n",
       "      <td>88.0</td>\n",
       "      <td>841.0</td>\n",
       "      <td>3895.0</td>\n",
       "      <td>111.0</td>\n",
       "      <td>...</td>\n",
       "      <td>2014-02-26 09:05:02</td>\n",
       "      <td>2014-02-26 09:05:00</td>\n",
       "      <td>2014-02-26 09:05:00</td>\n",
       "      <td>2014-02-26 09:05:00</td>\n",
       "      <td>2014-02-26 09:05:01</td>\n",
       "      <td>2014-02-26 09:05:01</td>\n",
       "      <td>2014-02-26 09:05:01</td>\n",
       "      <td>2014-02-26 09:05:02</td>\n",
       "      <td>2014-02-26 09:05:02</td>\n",
       "      <td>1273.0</td>\n",
       "    </tr>\n",
       "    <tr>\n",
       "      <th>95319</th>\n",
       "      <td>1943</td>\n",
       "      <td>1943.0</td>\n",
       "      <td>1943.0</td>\n",
       "      <td>1943.0</td>\n",
       "      <td>1943.0</td>\n",
       "      <td>1943.0</td>\n",
       "      <td>1943.0</td>\n",
       "      <td>1943.0</td>\n",
       "      <td>32.0</td>\n",
       "      <td>32.0</td>\n",
       "      <td>...</td>\n",
       "      <td>2014-10-04 10:17:59</td>\n",
       "      <td>2014-10-04 10:14:29</td>\n",
       "      <td>2014-10-04 10:14:59</td>\n",
       "      <td>2014-10-04 10:15:59</td>\n",
       "      <td>2014-10-04 10:16:30</td>\n",
       "      <td>2014-10-04 10:16:59</td>\n",
       "      <td>2014-10-04 10:17:29</td>\n",
       "      <td>2014-10-04 10:17:54</td>\n",
       "      <td>2014-10-04 10:17:55</td>\n",
       "      <td>3370.0</td>\n",
       "    </tr>\n",
       "    <tr>\n",
       "      <th>1</th>\n",
       "      <td>1917</td>\n",
       "      <td>NaN</td>\n",
       "      <td>NaN</td>\n",
       "      <td>NaN</td>\n",
       "      <td>NaN</td>\n",
       "      <td>NaN</td>\n",
       "      <td>NaN</td>\n",
       "      <td>NaN</td>\n",
       "      <td>NaN</td>\n",
       "      <td>NaN</td>\n",
       "      <td>...</td>\n",
       "      <td>NaN</td>\n",
       "      <td>NaN</td>\n",
       "      <td>NaN</td>\n",
       "      <td>NaN</td>\n",
       "      <td>NaN</td>\n",
       "      <td>NaN</td>\n",
       "      <td>NaN</td>\n",
       "      <td>NaN</td>\n",
       "      <td>NaN</td>\n",
       "      <td>NaN</td>\n",
       "    </tr>\n",
       "    <tr>\n",
       "      <th>2</th>\n",
       "      <td>20225</td>\n",
       "      <td>20225.0</td>\n",
       "      <td>27.0</td>\n",
       "      <td>9.0</td>\n",
       "      <td>32.0</td>\n",
       "      <td>20225.0</td>\n",
       "      <td>20258.0</td>\n",
       "      <td>20225.0</td>\n",
       "      <td>20225.0</td>\n",
       "      <td>20276.0</td>\n",
       "      <td>...</td>\n",
       "      <td>2014-03-04 14:11:09</td>\n",
       "      <td>2014-03-04 14:08:59</td>\n",
       "      <td>2014-03-04 14:08:59</td>\n",
       "      <td>2014-03-04 14:09:50</td>\n",
       "      <td>2014-03-04 14:10:43</td>\n",
       "      <td>2014-03-04 14:10:44</td>\n",
       "      <td>2014-03-04 14:10:45</td>\n",
       "      <td>2014-03-04 14:11:07</td>\n",
       "      <td>2014-03-04 14:11:08</td>\n",
       "      <td>NaN</td>\n",
       "    </tr>\n",
       "  </tbody>\n",
       "</table>\n",
       "<p>4 rows × 21 columns</p>\n",
       "</div>"
      ],
      "text/plain": [
       "            site1   site10   site2   site3   site4    site5    site6    site7  \\\n",
       "session_id                                                                      \n",
       "95318         223    173.0   466.0  3810.0   111.0     11.0     88.0    841.0   \n",
       "95319        1943   1943.0  1943.0  1943.0  1943.0   1943.0   1943.0   1943.0   \n",
       "1            1917      NaN     NaN     NaN     NaN      NaN      NaN      NaN   \n",
       "2           20225  20225.0    27.0     9.0    32.0  20225.0  20258.0  20225.0   \n",
       "\n",
       "              site8    site9   ...                 time10  \\\n",
       "session_id                     ...                          \n",
       "95318        3895.0    111.0   ...    2014-02-26 09:05:02   \n",
       "95319          32.0     32.0   ...    2014-10-04 10:17:59   \n",
       "1               NaN      NaN   ...                    NaN   \n",
       "2           20225.0  20276.0   ...    2014-03-04 14:11:09   \n",
       "\n",
       "                          time2                time3                time4  \\\n",
       "session_id                                                                  \n",
       "95318       2014-02-26 09:05:00  2014-02-26 09:05:00  2014-02-26 09:05:00   \n",
       "95319       2014-10-04 10:14:29  2014-10-04 10:14:59  2014-10-04 10:15:59   \n",
       "1                           NaN                  NaN                  NaN   \n",
       "2           2014-03-04 14:08:59  2014-03-04 14:08:59  2014-03-04 14:09:50   \n",
       "\n",
       "                          time5                time6                time7  \\\n",
       "session_id                                                                  \n",
       "95318       2014-02-26 09:05:01  2014-02-26 09:05:01  2014-02-26 09:05:01   \n",
       "95319       2014-10-04 10:16:30  2014-10-04 10:16:59  2014-10-04 10:17:29   \n",
       "1                           NaN                  NaN                  NaN   \n",
       "2           2014-03-04 14:10:43  2014-03-04 14:10:44  2014-03-04 14:10:45   \n",
       "\n",
       "                          time8                time9 user_id  \n",
       "session_id                                                    \n",
       "95318       2014-02-26 09:05:02  2014-02-26 09:05:02  1273.0  \n",
       "95319       2014-10-04 10:17:54  2014-10-04 10:17:55  3370.0  \n",
       "1                           NaN                  NaN     NaN  \n",
       "2           2014-03-04 14:11:07  2014-03-04 14:11:08     NaN  \n",
       "\n",
       "[4 rows x 21 columns]"
      ]
     },
     "execution_count": 6,
     "metadata": {},
     "output_type": "execute_result"
    }
   ],
   "source": [
    "train_test_df.iloc[95317:95321]"
   ]
  },
  {
   "cell_type": "code",
   "execution_count": 7,
   "metadata": {
    "collapsed": false
   },
   "outputs": [
    {
     "data": {
      "text/html": [
       "<div>\n",
       "<table border=\"1\" class=\"dataframe\">\n",
       "  <thead>\n",
       "    <tr style=\"text-align: right;\">\n",
       "      <th></th>\n",
       "      <th>site1</th>\n",
       "      <th>time1</th>\n",
       "      <th>site2</th>\n",
       "      <th>time2</th>\n",
       "      <th>site3</th>\n",
       "      <th>time3</th>\n",
       "      <th>site4</th>\n",
       "      <th>time4</th>\n",
       "      <th>site5</th>\n",
       "      <th>time5</th>\n",
       "      <th>site6</th>\n",
       "      <th>time6</th>\n",
       "      <th>site7</th>\n",
       "      <th>time7</th>\n",
       "      <th>site8</th>\n",
       "      <th>time8</th>\n",
       "      <th>site9</th>\n",
       "      <th>time9</th>\n",
       "      <th>site10</th>\n",
       "      <th>time10</th>\n",
       "    </tr>\n",
       "    <tr>\n",
       "      <th>session_id</th>\n",
       "      <th></th>\n",
       "      <th></th>\n",
       "      <th></th>\n",
       "      <th></th>\n",
       "      <th></th>\n",
       "      <th></th>\n",
       "      <th></th>\n",
       "      <th></th>\n",
       "      <th></th>\n",
       "      <th></th>\n",
       "      <th></th>\n",
       "      <th></th>\n",
       "      <th></th>\n",
       "      <th></th>\n",
       "      <th></th>\n",
       "      <th></th>\n",
       "      <th></th>\n",
       "      <th></th>\n",
       "      <th></th>\n",
       "      <th></th>\n",
       "    </tr>\n",
       "  </thead>\n",
       "  <tbody>\n",
       "    <tr>\n",
       "      <th>33766</th>\n",
       "      <td>2184</td>\n",
       "      <td>2014-01-04 21:36:12</td>\n",
       "      <td>2367.0</td>\n",
       "      <td>2014-01-04 21:36:28</td>\n",
       "      <td>2367.0</td>\n",
       "      <td>2014-01-04 21:36:32</td>\n",
       "      <td>2367.0</td>\n",
       "      <td>2014-01-04 21:36:33</td>\n",
       "      <td>2184.0</td>\n",
       "      <td>2014-01-04 21:36:37</td>\n",
       "      <td>2184.0</td>\n",
       "      <td>2014-01-04 21:36:54</td>\n",
       "      <td>2184.0</td>\n",
       "      <td>2014-01-04 21:36:55</td>\n",
       "      <td>15137.0</td>\n",
       "      <td>2014-01-04 21:36:55</td>\n",
       "      <td>16154.0</td>\n",
       "      <td>2014-01-04 21:36:56</td>\n",
       "      <td>15137.0</td>\n",
       "      <td>2014-01-04 21:36:58</td>\n",
       "    </tr>\n",
       "    <tr>\n",
       "      <th>36730</th>\n",
       "      <td>8</td>\n",
       "      <td>2014-05-02 13:49:54</td>\n",
       "      <td>421.0</td>\n",
       "      <td>2014-05-02 13:49:56</td>\n",
       "      <td>421.0</td>\n",
       "      <td>2014-05-02 13:49:57</td>\n",
       "      <td>869.0</td>\n",
       "      <td>2014-05-02 13:51:05</td>\n",
       "      <td>11420.0</td>\n",
       "      <td>2014-05-02 13:51:23</td>\n",
       "      <td>421.0</td>\n",
       "      <td>2014-05-02 13:51:24</td>\n",
       "      <td>252.0</td>\n",
       "      <td>2014-05-02 13:51:24</td>\n",
       "      <td>11420.0</td>\n",
       "      <td>2014-05-02 13:51:24</td>\n",
       "      <td>11420.0</td>\n",
       "      <td>2014-05-02 13:51:25</td>\n",
       "      <td>20.0</td>\n",
       "      <td>2014-05-02 13:51:33</td>\n",
       "    </tr>\n",
       "    <tr>\n",
       "      <th>14611</th>\n",
       "      <td>2</td>\n",
       "      <td>2013-11-12 08:20:50</td>\n",
       "      <td>58.0</td>\n",
       "      <td>2013-11-12 08:22:04</td>\n",
       "      <td>9.0</td>\n",
       "      <td>2013-11-12 08:25:05</td>\n",
       "      <td>9.0</td>\n",
       "      <td>2013-11-12 08:26:13</td>\n",
       "      <td>12.0</td>\n",
       "      <td>2013-11-12 08:26:38</td>\n",
       "      <td>8.0</td>\n",
       "      <td>2013-11-12 08:26:44</td>\n",
       "      <td>9.0</td>\n",
       "      <td>2013-11-12 08:27:19</td>\n",
       "      <td>12.0</td>\n",
       "      <td>2013-11-12 08:27:56</td>\n",
       "      <td>8.0</td>\n",
       "      <td>2013-11-12 08:27:56</td>\n",
       "      <td>9.0</td>\n",
       "      <td>2013-11-12 08:28:22</td>\n",
       "    </tr>\n",
       "  </tbody>\n",
       "</table>\n",
       "</div>"
      ],
      "text/plain": [
       "            site1                time1   site2                time2   site3  \\\n",
       "session_id                                                                    \n",
       "33766        2184  2014-01-04 21:36:12  2367.0  2014-01-04 21:36:28  2367.0   \n",
       "36730           8  2014-05-02 13:49:54   421.0  2014-05-02 13:49:56   421.0   \n",
       "14611           2  2013-11-12 08:20:50    58.0  2013-11-12 08:22:04     9.0   \n",
       "\n",
       "                          time3   site4                time4    site5  \\\n",
       "session_id                                                              \n",
       "33766       2014-01-04 21:36:32  2367.0  2014-01-04 21:36:33   2184.0   \n",
       "36730       2014-05-02 13:49:57   869.0  2014-05-02 13:51:05  11420.0   \n",
       "14611       2013-11-12 08:25:05     9.0  2013-11-12 08:26:13     12.0   \n",
       "\n",
       "                          time5   site6                time6   site7  \\\n",
       "session_id                                                             \n",
       "33766       2014-01-04 21:36:37  2184.0  2014-01-04 21:36:54  2184.0   \n",
       "36730       2014-05-02 13:51:23   421.0  2014-05-02 13:51:24   252.0   \n",
       "14611       2013-11-12 08:26:38     8.0  2013-11-12 08:26:44     9.0   \n",
       "\n",
       "                          time7    site8                time8    site9  \\\n",
       "session_id                                                               \n",
       "33766       2014-01-04 21:36:55  15137.0  2014-01-04 21:36:55  16154.0   \n",
       "36730       2014-05-02 13:51:24  11420.0  2014-05-02 13:51:24  11420.0   \n",
       "14611       2013-11-12 08:27:19     12.0  2013-11-12 08:27:56      8.0   \n",
       "\n",
       "                          time9   site10               time10  \n",
       "session_id                                                     \n",
       "33766       2014-01-04 21:36:56  15137.0  2014-01-04 21:36:58  \n",
       "36730       2014-05-02 13:51:25     20.0  2014-05-02 13:51:33  \n",
       "14611       2013-11-12 08:27:56      9.0  2013-11-12 08:28:22  "
      ]
     },
     "execution_count": 7,
     "metadata": {},
     "output_type": "execute_result"
    }
   ],
   "source": [
    "test_df.sample(3)"
   ]
  },
  {
   "cell_type": "code",
   "execution_count": 8,
   "metadata": {
    "collapsed": false
   },
   "outputs": [
    {
     "data": {
      "text/plain": [
       "550"
      ]
     },
     "execution_count": 8,
     "metadata": {},
     "output_type": "execute_result"
    }
   ],
   "source": [
    "train_df['user_id'].nunique()"
   ]
  },
  {
   "cell_type": "code",
   "execution_count": 12,
   "metadata": {
    "collapsed": false
   },
   "outputs": [
    {
     "data": {
      "text/plain": [
       "3165    3351\n",
       "537     1927\n",
       "3324    1534\n",
       "Name: user_id, dtype: int64"
      ]
     },
     "execution_count": 12,
     "metadata": {},
     "output_type": "execute_result"
    }
   ],
   "source": [
    "train_df['user_id'].value_counts().head(3)"
   ]
  },
  {
   "cell_type": "code",
   "execution_count": 13,
   "metadata": {
    "collapsed": false
   },
   "outputs": [],
   "source": [
    "train_test_df_sites = train_test_df[['site1', 'site2', 'site3', \n",
    "                                     'site4','site5', \n",
    "                                     'site6','site7', 'site8', \n",
    "                                     'site9', 'site10']].fillna(0).astype('int')"
   ]
  },
  {
   "cell_type": "code",
   "execution_count": 14,
   "metadata": {
    "collapsed": false
   },
   "outputs": [
    {
     "data": {
      "text/html": [
       "<div>\n",
       "<table border=\"1\" class=\"dataframe\">\n",
       "  <thead>\n",
       "    <tr style=\"text-align: right;\">\n",
       "      <th></th>\n",
       "      <th>site1</th>\n",
       "      <th>site2</th>\n",
       "      <th>site3</th>\n",
       "      <th>site4</th>\n",
       "      <th>site5</th>\n",
       "      <th>site6</th>\n",
       "      <th>site7</th>\n",
       "      <th>site8</th>\n",
       "      <th>site9</th>\n",
       "      <th>site10</th>\n",
       "    </tr>\n",
       "    <tr>\n",
       "      <th>session_id</th>\n",
       "      <th></th>\n",
       "      <th></th>\n",
       "      <th></th>\n",
       "      <th></th>\n",
       "      <th></th>\n",
       "      <th></th>\n",
       "      <th></th>\n",
       "      <th></th>\n",
       "      <th></th>\n",
       "      <th></th>\n",
       "    </tr>\n",
       "  </thead>\n",
       "  <tbody>\n",
       "    <tr>\n",
       "      <th>1</th>\n",
       "      <td>8</td>\n",
       "      <td>11</td>\n",
       "      <td>82</td>\n",
       "      <td>68</td>\n",
       "      <td>8</td>\n",
       "      <td>8393</td>\n",
       "      <td>8403</td>\n",
       "      <td>932</td>\n",
       "      <td>3260</td>\n",
       "      <td>8</td>\n",
       "    </tr>\n",
       "    <tr>\n",
       "      <th>2</th>\n",
       "      <td>111</td>\n",
       "      <td>78</td>\n",
       "      <td>151</td>\n",
       "      <td>111</td>\n",
       "      <td>1401</td>\n",
       "      <td>151</td>\n",
       "      <td>1375</td>\n",
       "      <td>38</td>\n",
       "      <td>1401</td>\n",
       "      <td>97</td>\n",
       "    </tr>\n",
       "    <tr>\n",
       "      <th>3</th>\n",
       "      <td>11</td>\n",
       "      <td>3187</td>\n",
       "      <td>132</td>\n",
       "      <td>496</td>\n",
       "      <td>1969</td>\n",
       "      <td>504</td>\n",
       "      <td>3187</td>\n",
       "      <td>82</td>\n",
       "      <td>3191</td>\n",
       "      <td>3184</td>\n",
       "    </tr>\n",
       "  </tbody>\n",
       "</table>\n",
       "</div>"
      ],
      "text/plain": [
       "            site1  site2  site3  site4  site5  site6  site7  site8  site9  \\\n",
       "session_id                                                                  \n",
       "1               8     11     82     68      8   8393   8403    932   3260   \n",
       "2             111     78    151    111   1401    151   1375     38   1401   \n",
       "3              11   3187    132    496   1969    504   3187     82   3191   \n",
       "\n",
       "            site10  \n",
       "session_id          \n",
       "1                8  \n",
       "2               97  \n",
       "3             3184  "
      ]
     },
     "execution_count": 14,
     "metadata": {},
     "output_type": "execute_result"
    }
   ],
   "source": [
    "train_test_df_sites.head(3)"
   ]
  },
  {
   "cell_type": "code",
   "execution_count": 15,
   "metadata": {
    "collapsed": true
   },
   "outputs": [],
   "source": [
    "def sparse_array( sess, maxlen ) :\n",
    "    \n",
    "    indices = sess.ravel() \n",
    "    ln = len( indices )\n",
    "    data = np.ones(ln, dtype=int)\n",
    "    indptr = np.array( range(0, ln+1, maxlen), dtype=int )\n",
    "    \n",
    "    return csr_matrix( (data, indices, indptr),  dtype=int )[:, 1:] # первый столбец разреженной матрицы надо удаляем"
   ]
  },
  {
   "cell_type": "code",
   "execution_count": 16,
   "metadata": {
    "collapsed": false
   },
   "outputs": [],
   "source": [
    "X_train_test_sparse = sparse_array(train_test_df_sites.values, 10)"
   ]
  },
  {
   "cell_type": "code",
   "execution_count": 17,
   "metadata": {
    "collapsed": false
   },
   "outputs": [
    {
     "name": "stdout",
     "output_type": "stream",
     "text": [
      "(136496, 24052)\n"
     ]
    }
   ],
   "source": [
    "print (X_train_test_sparse.shape)"
   ]
  },
  {
   "cell_type": "code",
   "execution_count": 18,
   "metadata": {
    "collapsed": false
   },
   "outputs": [],
   "source": [
    "N, _ = train_df.shape"
   ]
  },
  {
   "cell_type": "code",
   "execution_count": 19,
   "metadata": {
    "collapsed": false
   },
   "outputs": [],
   "source": [
    "X_train_sparse = X_train_test_sparse[:N, :]\n",
    "X_test_sparse  = X_train_test_sparse[N:, :]\n",
    "y = train_df.iloc[:, -1].values"
   ]
  },
  {
   "cell_type": "code",
   "execution_count": 20,
   "metadata": {
    "collapsed": false
   },
   "outputs": [],
   "source": [
    "n1, n2 = X_train_sparse.shape\n",
    "n3, n4 = X_test_sparse.shape"
   ]
  },
  {
   "cell_type": "code",
   "execution_count": 21,
   "metadata": {
    "collapsed": false
   },
   "outputs": [
    {
     "name": "stdout",
     "output_type": "stream",
     "text": [
      "95319 24052 41177 24052\n"
     ]
    }
   ],
   "source": [
    "print (str(n1)+\" \"+str(n2)+\" \"+str(n3)+\" \"+str(n4) )"
   ]
  },
  {
   "cell_type": "markdown",
   "metadata": {},
   "source": [
    "**Сохраним в pickle-файлы объекты *X_train_sparse*, *X_test_sparse* и *y* (последний – в файл *kaggle_data/train_target.pkl*).**"
   ]
  },
  {
   "cell_type": "code",
   "execution_count": 22,
   "metadata": {
    "collapsed": false
   },
   "outputs": [],
   "source": [
    "import pickle\n",
    "\n",
    "with open('kaggle_data/X_train_sparse.pkl', 'wb') as X_train_sparse_pkl:\n",
    "    pickle.dump(X_train_sparse, X_train_sparse_pkl)\n",
    "with open('kaggle_data/X_test_sparse.pkl', 'wb') as X_test_sparse_pkl:\n",
    "    pickle.dump(X_test_sparse, X_test_sparse_pkl)\n",
    "with open('kaggle_data/train_target.pkl', 'wb') as train_target_pkl:\n",
    "    pickle.dump(y, train_target_pkl)"
   ]
  },
  {
   "cell_type": "markdown",
   "metadata": {},
   "source": [
    "**Разобьем обучающую выборку на 2 части в пропорции 7/3.**"
   ]
  },
  {
   "cell_type": "code",
   "execution_count": 24,
   "metadata": {
    "collapsed": false
   },
   "outputs": [],
   "source": [
    "X_train, X_valid, y_train, y_valid = train_test_split(X_train_sparse, y, test_size=0.3, \n",
    "                                                     random_state=7, stratify=y)"
   ]
  },
  {
   "cell_type": "code",
   "execution_count": 25,
   "metadata": {
    "collapsed": true
   },
   "outputs": [],
   "source": [
    "sgd_logit = SGDClassifier(loss='log', random_state=7, n_jobs=-1 )"
   ]
  },
  {
   "cell_type": "code",
   "execution_count": 26,
   "metadata": {
    "collapsed": false
   },
   "outputs": [
    {
     "name": "stdout",
     "output_type": "stream",
     "text": [
      "Wall time: 11.5 s\n"
     ]
    },
    {
     "data": {
      "text/plain": [
       "SGDClassifier(alpha=0.0001, average=False, class_weight=None, epsilon=0.1,\n",
       "       eta0=0.0, fit_intercept=True, l1_ratio=0.15,\n",
       "       learning_rate='optimal', loss='log', n_iter=5, n_jobs=-1,\n",
       "       penalty='l2', power_t=0.5, random_state=7, shuffle=True, verbose=0,\n",
       "       warm_start=False)"
      ]
     },
     "execution_count": 26,
     "metadata": {},
     "output_type": "execute_result"
    }
   ],
   "source": [
    "%%time\n",
    "sgd_logit.fit(X_train, y_train)"
   ]
  },
  {
   "cell_type": "code",
   "execution_count": 27,
   "metadata": {
    "collapsed": true
   },
   "outputs": [],
   "source": [
    "sgd_svm = SGDClassifier(loss='hinge', random_state=7, n_jobs=-1 )"
   ]
  },
  {
   "cell_type": "code",
   "execution_count": 28,
   "metadata": {
    "collapsed": false
   },
   "outputs": [
    {
     "name": "stdout",
     "output_type": "stream",
     "text": [
      "Wall time: 9.43 s\n"
     ]
    },
    {
     "data": {
      "text/plain": [
       "SGDClassifier(alpha=0.0001, average=False, class_weight=None, epsilon=0.1,\n",
       "       eta0=0.0, fit_intercept=True, l1_ratio=0.15,\n",
       "       learning_rate='optimal', loss='hinge', n_iter=5, n_jobs=-1,\n",
       "       penalty='l2', power_t=0.5, random_state=7, shuffle=True, verbose=0,\n",
       "       warm_start=False)"
      ]
     },
     "execution_count": 28,
     "metadata": {},
     "output_type": "execute_result"
    }
   ],
   "source": [
    "%%time\n",
    "sgd_svm.fit(X_train, y_train)"
   ]
  },
  {
   "cell_type": "markdown",
   "metadata": {},
   "source": [
    "**Сделаем прогнозы с помощью обеих моделей на отложенной выборке (X_valid, y_valid).**"
   ]
  },
  {
   "cell_type": "code",
   "execution_count": 29,
   "metadata": {
    "collapsed": false
   },
   "outputs": [],
   "source": [
    "logit_valid_pred = sgd_logit.predict(X_valid)\n",
    "svm_valid_pred = sgd_svm.predict(X_valid)"
   ]
  },
  {
   "cell_type": "code",
   "execution_count": 30,
   "metadata": {
    "collapsed": false
   },
   "outputs": [
    {
     "name": "stdout",
     "output_type": "stream",
     "text": [
      "0.286403692824\n",
      "0.267135263673\n"
     ]
    }
   ],
   "source": [
    "print(accuracy_score(y_valid, logit_valid_pred))\n",
    "print(accuracy_score(y_valid, svm_valid_pred))"
   ]
  },
  {
   "cell_type": "code",
   "execution_count": 31,
   "metadata": {
    "collapsed": true
   },
   "outputs": [],
   "source": [
    "logit_test_pred = sgd_logit.predict(X_test_sparse)"
   ]
  },
  {
   "cell_type": "code",
   "execution_count": 32,
   "metadata": {
    "collapsed": false
   },
   "outputs": [
    {
     "name": "stdout",
     "output_type": "stream",
     "text": [
      "0.315708490698\n",
      "Wall time: 3min 58s\n"
     ]
    }
   ],
   "source": [
    "%%time\n",
    "sgd_logit = SGDClassifier(loss='modified_huber', n_iter=123, penalty='l2', warm_start=True, random_state=7, n_jobs=-1 )\n",
    "sgd_logit.fit(X_train, y_train)\n",
    "logit_valid_pred = sgd_logit.predict(X_valid)\n",
    "print(accuracy_score(y_valid, logit_valid_pred))  # baseline = 0.3123 loss='modified_huber', n_iter=101, penalty='l2'"
   ]
  },
  {
   "cell_type": "code",
   "execution_count": 82,
   "metadata": {
    "collapsed": true
   },
   "outputs": [],
   "source": [
    "logit_test_pred = sgd_logit.predict(X_test_sparse)"
   ]
  },
  {
   "cell_type": "code",
   "execution_count": 1,
   "metadata": {
    "collapsed": true
   },
   "outputs": [],
   "source": [
    "def write_to_submission_file(predicted_labels, out_file,\n",
    "                             target='user_id', index_label=\"session_id\"):\n",
    "    # turn predictions into data frame and save as csv file\n",
    "    predicted_df = pd.DataFrame(predicted_labels,\n",
    "                                index = np.arange(1, predicted_labels.shape[0] + 1),\n",
    "                                columns=[target])\n",
    "    predicted_df.to_csv(out_file, index_label=index_label)"
   ]
  },
  {
   "cell_type": "code",
   "execution_count": 83,
   "metadata": {
    "collapsed": true
   },
   "outputs": [],
   "source": [
    "write_to_submission_file(logit_test_pred, 'kaggle_data/sokolov_kaggle_submission.csv' )"
   ]
  },
  {
   "cell_type": "code",
   "execution_count": null,
   "metadata": {
    "collapsed": true
   },
   "outputs": [],
   "source": []
  }
 ],
 "metadata": {
  "kernelspec": {
   "display_name": "Python [default]",
   "language": "python",
   "name": "python3"
  },
  "language_info": {
   "codemirror_mode": {
    "name": "ipython",
    "version": 3
   },
   "file_extension": ".py",
   "mimetype": "text/x-python",
   "name": "python",
   "nbconvert_exporter": "python",
   "pygments_lexer": "ipython3",
   "version": "3.5.2"
  }
 },
 "nbformat": 4,
 "nbformat_minor": 1
}

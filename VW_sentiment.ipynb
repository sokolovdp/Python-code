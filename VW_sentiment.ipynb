{
 "cells": [
  {
   "cell_type": "code",
   "execution_count": 1,
   "metadata": {
    "collapsed": false
   },
   "outputs": [
    {
     "name": "stdout",
     "output_type": "stream",
     "text": [
      "Populating the interactive namespace from numpy and matplotlib\n"
     ]
    }
   ],
   "source": [
    "import re\n",
    "import pandas as pd\n",
    "from scipy.sparse import csr_matrix\n",
    "import matplotlib.pyplot as plt\n",
    "%pylab inline\n",
    "import sklearn.datasets\n",
    "from sklearn.metrics import accuracy_score, roc_auc_score, confusion_matrix\n",
    "from sklearn.model_selection import train_test_split\n",
    "from sklearn.preprocessing import LabelEncoder\n",
    "\n",
    "import nltk\n",
    "# from nltk.corpus import stopwords\n",
    "from nltk.stem import SnowballStemmer\n",
    "\n",
    "stemmer = SnowballStemmer(\"english\")\n"
   ]
  },
  {
   "cell_type": "code",
   "execution_count": 2,
   "metadata": {
    "collapsed": false
   },
   "outputs": [],
   "source": [
    "def print_head(lines, n) :\n",
    "    print (len(lines))\n",
    "    for i in range(n) :\n",
    "        print (lines[i])"
   ]
  },
  {
   "cell_type": "code",
   "execution_count": 3,
   "metadata": {
    "collapsed": true
   },
   "outputs": [],
   "source": [
    "def hasDigits(inputString):\n",
    "    for char in inputString:\n",
    "        if char.isdigit() :\n",
    "            return True\n",
    "        \n",
    "    return False"
   ]
  },
  {
   "cell_type": "code",
   "execution_count": 4,
   "metadata": {
    "collapsed": true
   },
   "outputs": [],
   "source": [
    "stemmer = SnowballStemmer(\"english\")\n",
    "pos_words = list()\n",
    "with open('positive_words.txt', 'r') as f0:\n",
    "    for line in f0:\n",
    "        pos_words.append(stemmer.stem( line.rstrip() ) )\n",
    "\n",
    "positive_words = list(set(pos_words))\n",
    "\n",
    "# print (len(positive_words) )\n",
    "\n",
    "neg_words = list()\n",
    "with open('negative_words.txt', 'r') as f1:\n",
    "    for line in f1:\n",
    "        # print (line)\n",
    "        neg_words.append(stemmer.stem( line.rstrip() ) )\n",
    "        \n",
    "negative_words = list(set(neg_words))\n",
    "# print (len(negative_words) )"
   ]
  },
  {
   "cell_type": "code",
   "execution_count": 65,
   "metadata": {
    "collapsed": false
   },
   "outputs": [],
   "source": [
    "# cachedStopWords = stopwords.words(\"english\")\n",
    "\n",
    "def to_vw_format(line, label=None):\n",
    "    bad_words = re.findall('\\w{2,}', line.lower())\n",
    "    mood = 0\n",
    "    words = list()\n",
    "    for w in bad_words:\n",
    "        if ( not hasDigits(w) ) : # and (w not in cachedStopWords ) :\n",
    "            w = stemmer.stem(w)\n",
    "            # w = w.encode('ascii', 'ignore')\n",
    "            \n",
    "            if w in positive_words :\n",
    "                mood += 1\n",
    "            if w in negative_words :\n",
    "                mood -= 1\n",
    "            \n",
    "  \n",
    "            words.append(w)\n",
    "            #print (words)\n",
    "        \n",
    "    if mood > 2 :\n",
    "        am = 'good '\n",
    "    elif mood < -2 :\n",
    "        am = 'bad '\n",
    "    else :\n",
    "        am = 'unsure '\n",
    "                \n",
    "                        \n",
    "    return str(label or '') + ' |text ' + am  + ' '.join(words) +  '\\n'"
   ]
  },
  {
   "cell_type": "code",
   "execution_count": 66,
   "metadata": {
    "collapsed": false
   },
   "outputs": [],
   "source": [
    "def read_train_file(filename) :\n",
    "    vw_lines = list()\n",
    "    vw_labels = list()\n",
    "    with open(filename, 'r') as fp:\n",
    "        for line in fp:\n",
    "            label = 1 if int(line[-2:]) == 1 else -1\n",
    "            vw_lines.append(to_vw_format(line, label))\n",
    "            vw_labels.append(label)\n",
    "    return vw_lines, vw_labels"
   ]
  },
  {
   "cell_type": "code",
   "execution_count": 67,
   "metadata": {
    "collapsed": false
   },
   "outputs": [],
   "source": [
    "train_lines, train_codes = read_train_file('products_sentiment_train.tsv')"
   ]
  },
  {
   "cell_type": "code",
   "execution_count": 68,
   "metadata": {
    "collapsed": false
   },
   "outputs": [],
   "source": [
    "train_docs, test_docs, train_labels, test_labels = train_test_split(train_lines, train_codes, \n",
    "                                                                              stratify=train_codes,\n",
    "                                                                              test_size=0.1,\n",
    "                                                                              random_state=7)"
   ]
  },
  {
   "cell_type": "code",
   "execution_count": 76,
   "metadata": {
    "collapsed": false
   },
   "outputs": [],
   "source": [
    "with open('sentiment_train.vw', 'w', encoding='utf-8') as f1:\n",
    "    for line in train_docs :\n",
    "        f1.write(line)\n",
    "        \n",
    "with open('sentiment_test.vw', 'w', encoding='utf-8') as f2:\n",
    "    for line in test_docs:\n",
    "        f2.write(line)"
   ]
  },
  {
   "cell_type": "code",
   "execution_count": 84,
   "metadata": {
    "collapsed": false
   },
   "outputs": [
    {
     "name": "stderr",
     "output_type": "stream",
     "text": [
      "Generating 2-grams for all namespaces.\n",
      "final_regressor = sentiment_model.vw\n",
      "Num weight bits = 18\n",
      "learning rate = 0.7\n",
      "initial_t = 0\n",
      "power_t = 0.5\n",
      "decay_learning_rate = 1\n",
      "using cache_file = sentiment_train.vw.cache\n",
      "ignoring text input in favor of cache input\n",
      "num sources = 1\n",
      "average  since         example        example  current  current  current\n",
      "loss     last          counter         weight    label  predict features\n",
      "0.693147 0.693147            1            1.0  -1.0000   0.0000       28\n",
      "0.653961 0.614776            2            2.0  -1.0000  -0.1634       16\n",
      "0.701623 0.749284            4            4.0   1.0000  -0.0889       10\n",
      "0.693859 0.686095            8            8.0   1.0000  -0.1728       14\n",
      "0.682894 0.671929           16           16.0  -1.0000   0.0352       34\n",
      "0.647703 0.612512           32           32.0   1.0000   0.0784       10\n",
      "0.611873 0.576044           64           64.0  -1.0000   0.1765       12\n",
      "0.624560 0.637246          128          128.0  -1.0000   1.7043       44\n",
      "0.602078 0.579596          256          256.0  -1.0000   0.1914       24\n",
      "0.574336 0.546595          512          512.0   1.0000   0.1007        2\n",
      "0.593155 0.593155         1024         1024.0   1.0000  -0.3653       14 h\n",
      "0.568204 0.543472         2048         2048.0  -1.0000  -2.1004       58 h\n",
      "0.569704 0.571197         4096         4096.0   1.0000   6.4040       84 h\n",
      "\n",
      "finished run\n",
      "number of examples per pass = 900\n",
      "passes used = 9\n",
      "weighted example sum = 8100.000000\n",
      "weighted label sum = 2232.000000\n",
      "average loss = 0.550904 h\n",
      "best constant = 0.565732\n",
      "best constant's loss = 0.654686\n",
      "total feature number = 214236\n"
     ]
    }
   ],
   "source": [
    "!vw --random_seed 7 --passes 20 -c -l 0.7 --decay_learning_rate 1.0 -d sentiment_train.vw --loss_function logistic --ngram 2 -f sentiment_model.vw"
   ]
  },
  {
   "cell_type": "code",
   "execution_count": 85,
   "metadata": {
    "collapsed": false
   },
   "outputs": [
    {
     "name": "stderr",
     "output_type": "stream",
     "text": [
      "Generating 2-grams for all namespaces.\n",
      "only testing\n",
      "predictions = sentiment_test_predictions.txt\n",
      "Num weight bits = 18\n",
      "learning rate = 0.5\n",
      "initial_t = 0\n",
      "power_t = 0.5\n",
      "using no cache\n",
      "Reading datafile = sentiment_test.vw\n",
      "num sources = 1\n",
      "average  since         example        example  current  current  current\n",
      "loss     last          counter         weight    label  predict features\n",
      "1.689966 1.689966            1            1.0  -1.0000   0.3000       34\n",
      "1.047141 0.404315            2            2.0   1.0000   1.6359       42\n",
      "1.185471 1.323801            4            4.0   1.0000   0.7473       22\n",
      "0.960933 0.736395            8            8.0  -1.0000  -0.0908        8\n",
      "2.244924 3.528915           16           16.0   1.0000   3.6744       74\n",
      "1.761560 1.278195           32           32.0  -1.0000  -0.3029       46\n",
      "2.012303 2.263047           64           64.0   1.0000   0.6106       14\n",
      "1.752082 1.491860          128          128.0   1.0000   0.8753       14\n",
      "\n",
      "finished run\n",
      "number of examples per pass = 200\n",
      "passes used = 1\n",
      "weighted example sum = 200.000000\n",
      "weighted label sum = 54.000000\n",
      "average loss = 1.936123\n",
      "best constant = 0.270000\n",
      "best constant's loss = 0.927100\n",
      "total feature number = 6928\n"
     ]
    }
   ],
   "source": [
    "!vw -i sentiment_model.vw -t -d sentiment_test.vw -p sentiment_test_predictions.txt"
   ]
  },
  {
   "cell_type": "markdown",
   "metadata": {},
   "source": [
    "Загрузим полученные предсказания, вычислим AUC и отобразим ROC-кривую:"
   ]
  },
  {
   "cell_type": "code",
   "execution_count": 86,
   "metadata": {
    "collapsed": false
   },
   "outputs": [
    {
     "data": {
      "image/png": "[encoded data removed]",
      "text/plain": [
       "<matplotlib.figure.Figure at 0x16f460dbd30>"
      ]
     },
     "metadata": {},
     "output_type": "display_data"
    }
   ],
   "source": [
    "with open('sentiment_test_predictions.txt') as f3:\n",
    "    test_prediction = [float(label) \n",
    "                             for label in f3.readlines()]\n",
    "\n",
    "auc = sklearn.metrics.roc_auc_score(test_labels, test_prediction)\n",
    "roc_curve = sklearn.metrics.roc_curve(test_labels, test_prediction)\n",
    "\n",
    "with plt.xkcd():\n",
    "    plt.plot(roc_curve[0], roc_curve[1]);\n",
    "    plt.plot([0,1], [0,1])\n",
    "    plt.xlabel('FPR'); plt.ylabel('TPR'); \n",
    "    plt.title('test AUC = %f' % (auc)); \n",
    "    plt.axis([-0.05,1.05,-0.05,1.05]);"
   ]
  },
  {
   "cell_type": "code",
   "execution_count": 87,
   "metadata": {
    "collapsed": false
   },
   "outputs": [],
   "source": [
    "def read_test_file(filename) :\n",
    "    test_text = list()\n",
    "    first = True\n",
    "    with open(filename, 'r') as fp:\n",
    "        for line in fp:\n",
    "            if (first) :\n",
    "                first = False\n",
    "                continue\n",
    "            test_text.append(to_vw_format(line,1))\n",
    "            \n",
    "    return test_text"
   ]
  },
  {
   "cell_type": "code",
   "execution_count": 88,
   "metadata": {
    "collapsed": true
   },
   "outputs": [],
   "source": [
    "full_test_lines = read_test_file('products_sentiment_test.tsv')"
   ]
  },
  {
   "cell_type": "code",
   "execution_count": 89,
   "metadata": {
    "collapsed": false
   },
   "outputs": [],
   "source": [
    "with open('sentiment_full_test.vw', 'w', encoding='utf-8') as f3:\n",
    "    for line in full_test_lines :\n",
    "        f3.write(line)"
   ]
  },
  {
   "cell_type": "code",
   "execution_count": 90,
   "metadata": {
    "collapsed": false
   },
   "outputs": [],
   "source": [
    "with open('sentiment_full_train.vw', 'w', encoding='utf-8') as f4:\n",
    "    for line in train_lines :\n",
    "        f4.write(line)"
   ]
  },
  {
   "cell_type": "code",
   "execution_count": 92,
   "metadata": {
    "collapsed": false,
    "scrolled": true
   },
   "outputs": [
    {
     "name": "stderr",
     "output_type": "stream",
     "text": [
      "Generating 2-grams for all namespaces.\n",
      "final_regressor = sentiment_model.vw\n",
      "Num weight bits = 18\n",
      "learning rate = 0.8\n",
      "initial_t = 0\n",
      "power_t = 0.5\n",
      "using no cache\n",
      "Reading datafile = sentiment_full_train.vw\n",
      "num sources = 1\n",
      "average  since         example        example  current  current  current\n",
      "loss     last          counter         weight    label  predict features\n",
      "0.693147 0.693147            1            1.0   1.0000   0.0000        8\n",
      "0.612562 0.531977            2            2.0   1.0000   0.3534       44\n",
      "0.710547 0.808533            4            4.0  -1.0000   0.7477       60\n",
      "0.536247 0.361947            8            8.0   1.0000   1.2814       64\n",
      "0.628955 0.721662           16           16.0  -1.0000   0.8464       22\n",
      "0.708683 0.788412           32           32.0   1.0000  -0.1502       46\n",
      "0.652677 0.596671           64           64.0   1.0000   1.2736       40\n",
      "0.630859 0.609040          128          128.0   1.0000  -0.1611       62\n",
      "0.627772 0.624686          256          256.0   1.0000  -0.2777       26\n",
      "0.586261 0.544750          512          512.0   1.0000   0.9578       38\n",
      "0.547637 0.509013         1024         1024.0   1.0000   1.3467       20\n",
      "\n",
      "finished run\n",
      "number of examples per pass = 2000\n",
      "passes used = 1\n",
      "weighted example sum = 2000.000000\n",
      "weighted label sum = 548.000000\n",
      "average loss = 0.506237\n",
      "best constant = 0.562367\n",
      "best constant's loss = 0.655125\n",
      "total feature number = 68122\n"
     ]
    }
   ],
   "source": [
    "!vw -l 0.8 --decay_learning_rate 1.0 -d sentiment_full_train.vw --loss_function logistic --ngram 2  -f sentiment_model.vw"
   ]
  },
  {
   "cell_type": "code",
   "execution_count": 93,
   "metadata": {
    "collapsed": false
   },
   "outputs": [
    {
     "name": "stderr",
     "output_type": "stream",
     "text": [
      "Generating 2-grams for all namespaces.\n",
      "only testing\n",
      "predictions = sentiment_full_predictions.txt\n",
      "Num weight bits = 18\n",
      "learning rate = 0.5\n",
      "initial_t = 0\n",
      "power_t = 0.5\n",
      "using no cache\n",
      "Reading datafile = sentiment_full_test.vw\n",
      "num sources = 1\n",
      "average  since         example        example  current  current  current\n",
      "loss     last          counter         weight    label  predict features\n",
      "5.077186 5.077186            1            1.0   1.0000   3.2533       58\n",
      "4.779863 4.482540            2            2.0   1.0000  -1.1172       38\n",
      "2.423926 0.067990            4            4.0   1.0000   0.6717       18\n",
      "3.670571 4.917215            8            8.0   1.0000  -1.1780       72\n",
      "2.915589 2.160606           16           16.0   1.0000   0.7376       22\n",
      "3.610224 4.304859           32           32.0   1.0000   0.6166       24\n",
      "2.780837 1.951451           64           64.0   1.0000  -0.5040       14\n",
      "2.385895 1.990953          128          128.0   1.0000   2.5779       26\n",
      "2.342951 2.300006          256          256.0   1.0000   1.0440       26\n",
      "\n",
      "finished run\n",
      "number of examples per pass = 500\n",
      "passes used = 1\n",
      "weighted example sum = 500.000000\n",
      "weighted label sum = 500.000000\n",
      "average loss = 2.222647\n",
      "best constant = 1.000000\n",
      "best constant's loss = 0.000000\n",
      "total feature number = 17588\n"
     ]
    }
   ],
   "source": [
    "!vw -i sentiment_model.vw -t -d sentiment_full_test.vw -p sentiment_full_predictions.txt"
   ]
  },
  {
   "cell_type": "code",
   "execution_count": 94,
   "metadata": {
    "collapsed": false
   },
   "outputs": [],
   "source": [
    "predictions = list()\n",
    "with open('sentiment_full_predictions.txt', 'r') as f6:\n",
    "    for line in f6:\n",
    "        pr = int(float(line) > 0) \n",
    "        predictions.append(pr)\n",
    "        "
   ]
  },
  {
   "cell_type": "code",
   "execution_count": 95,
   "metadata": {
    "collapsed": false
   },
   "outputs": [],
   "source": [
    "with open('sokolovdp_sentiment_summission.txt', 'w', encoding='utf-8') as f5:\n",
    "    f5.write(\"Id,y\\n\")\n",
    "    for i, pr in enumerate(predictions) :\n",
    "        f5.write(\"%d,%d\\n\"% (i, pr) )"
   ]
  },
  {
   "cell_type": "markdown",
   "metadata": {},
   "source": [
    "# check mood scores"
   ]
  },
  {
   "cell_type": "code",
   "execution_count": 94,
   "metadata": {
    "collapsed": false
   },
   "outputs": [],
   "source": [
    "scores = list()\n",
    "with open('sentiment_full_test.vw', 'r') as f9:\n",
    "    for line in f9:\n",
    "        score = int(line[7:10])\n",
    "        if score > 0 :\n",
    "            score = 1 \n",
    "        else :\n",
    "            score = 0\n",
    "        scores.append( score )\n"
   ]
  },
  {
   "cell_type": "code",
   "execution_count": 95,
   "metadata": {
    "collapsed": false
   },
   "outputs": [],
   "source": [
    "with open('sokolovdp_sentiment_summission.txt', 'w', encoding='utf-8') as f5:\n",
    "    f5.write(\"Id,y\\n\")\n",
    "    for i, pr in enumerate(scores) :\n",
    "        f5.write(\"%d,%d\\n\"% (i, pr) )"
   ]
  },
  {
   "cell_type": "code",
   "execution_count": null,
   "metadata": {
    "collapsed": true
   },
   "outputs": [],
   "source": []
  }
 ],
 "metadata": {
  "anaconda-cloud": {},
  "kernelspec": {
   "display_name": "Python [default]",
   "language": "python",
   "name": "python3"
  },
  "language_info": {
   "codemirror_mode": {
    "name": "ipython",
    "version": 3
   },
   "file_extension": ".py",
   "mimetype": "text/x-python",
   "name": "python",
   "nbconvert_exporter": "python",
   "pygments_lexer": "ipython3",
   "version": "3.5.2"
  }
 },
 "nbformat": 4,
 "nbformat_minor": 0
}
